{
 "cells": [
  {
   "cell_type": "markdown",
   "metadata": {},
   "source": [
    "About:\n",
    "- Student: Potential. Therfeore, they need a special upgrade.\n",
    "- Teacher (Hany Hanafy): \n",
    "    - Good powerpoint, concepts oriented\n",
    "    - Exams including questions/examples\n",
    "\n",
    "Note: Hany Hanfy likes limitation and advantages"
   ]
  },
  {
   "cell_type": "markdown",
   "metadata": {},
   "source": [
    "Workflow initialization:\n",
    "- 2 Modules each Section\n",
    "    - Section\n",
    "    - Lab\n",
    "\n",
    "- Section Content:\n",
    "    - Section 1:\n",
    "        - Introduction 15 mins\n",
    "        - Perceptron Solved Examples\n",
    "        - Classwork\n",
    "        - Perceptron Code\n",
    "    - Section 2:\n",
    "        - Concepts/Examples\n",
    "            - Multilayer Perceptron Examples\n",
    "            - Forward Propagation\n",
    "            - Backward Propagation\n",
    "        - Multiperceptron Code (Assignment)\n",
    "    - Section 3:\n",
    "        - Examples, Concepts (case scenario) and Code\n",
    "            - Activation Functions\n",
    "        - Assigment (Different types)"
   ]
  }
 ],
 "metadata": {
  "language_info": {
   "name": "python"
  }
 },
 "nbformat": 4,
 "nbformat_minor": 2
}
