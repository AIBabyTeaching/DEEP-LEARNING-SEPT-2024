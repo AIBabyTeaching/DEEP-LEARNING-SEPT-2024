{
 "cells": [
  {
   "cell_type": "markdown",
   "metadata": {},
   "source": [
    "Student Name:\n",
    "Student Reg#: "
   ]
  },
  {
   "cell_type": "code",
   "execution_count": 5,
   "metadata": {},
   "outputs": [],
   "source": [
    "import chime\n",
    "chime.notify_exceptions()"
   ]
  },
  {
   "cell_type": "markdown",
   "metadata": {},
   "source": [
    "# Deep Learning 2024"
   ]
  },
  {
   "cell_type": "markdown",
   "metadata": {
    "editable": false,
    "removable": false
   },
   "source": [
    "In this notebook\n",
    "- The end-to-end crash course of DL is explained as coding.\n",
    "\n",
    "Classroom code: \n",
    "- o64a7np\n",
    "\n",
    "Notebook Authors:\n",
    "- Eng. Ahmed Métwalli\n",
    "- Eng. Alia Elhefny"
   ]
  },
  {
   "cell_type": "markdown",
   "metadata": {},
   "source": [
    "## Environment Preparation:\n",
    "- Download anaconda: https://www.anaconda.com/download/success\n",
    "- Create a new environment called 'DL_SEPT_2024'\n",
    "    - Set Python version 3.11.x\n",
    "    - Install:\n",
    "        - Notebook\n",
    "        - JupyterLab\n",
    "        - VS Code\n",
    "        - CMD Prompt\n",
    "        - Powershell Prompt\n",
    "    - In Python install basic packages (pip install `package`):\n",
    "        - pandas\n",
    "        - numpy\n",
    "        - matplotlib\n",
    "        - seaborn\n",
    "        - tensorflow\n",
    "        - keras\n",
    "        - sklearn\n",
    "        - chime"
   ]
  },
  {
   "cell_type": "markdown",
   "metadata": {},
   "source": [
    "## Section 1"
   ]
  },
  {
   "cell_type": "markdown",
   "metadata": {},
   "source": [
    "In our traditional Data Science Lifecycle, the main change we have over the course is within the Data Modelling block, where the algorithm used is neural network related, instead of Machine Learning methods."
   ]
  },
  {
   "cell_type": "markdown",
   "metadata": {},
   "source": [
    "<img src = \"DS!.png\">"
   ]
  },
  {
   "cell_type": "markdown",
   "metadata": {},
   "source": [
    "### Mathematical Model of the Perceptron\n",
    "A perceptron a.k.a (Linear Binary Classifier) is a linear classifier that makes decisions based on a linear function. The mathematical model can be represented as follows:\n",
    "\n",
    "1. **Linear Combination:**\n",
    "   $$\n",
    "   z = \\mathbf{W} \\cdot \\mathbf{X} + b\n",
    "   $$\n",
    "   - **W**: Weight vector.\n",
    "   - **X**: Input feature vector.\n",
    "   - **b**: Bias term.\n",
    "\n",
    "2. **Activation Function:**\n",
    "   $$\n",
    "   y = \\text{step}(z)\n",
    "   $$\n",
    "   - The step function is a threshold function that outputs 1 if z >= 0 and 0 otherwise.\n",
    "\n",
    "3. **Perceptron Learning Rule:**\n",
    "   The perceptron adjusts its weights and bias to minimize the classification error using the following rule:\n",
    "   $$\n",
    "   \\Delta \\mathbf{W} = \\eta \\cdot (y_{\\text{true}} - y_{\\text{pred}}) \\cdot \\mathbf{X}\n",
    "   $$\n",
    "   $$\n",
    "   \\Delta b = \\eta \\cdot (y_{\\text{true}} - y_{\\text{pred}})\n",
    "   $$\n",
    "   - **eta**: Learning rate.\n",
    "   - **y_true**: True label of the data point.\n",
    "   - **y_pred**: Predicted label by the perceptron.\n",
    "\n",
    "### Steps to Build the Perceptron Class\n",
    "\n",
    "1. **Initialization:**\n",
    "   - Define a class `Perceptron` with attributes for the learning rate, number of iterations, weights, and bias.\n",
    "   - Initialize the weights and bias to zero.\n",
    "\n",
    "2. **Training (`fit` Method):**\n",
    "   - For each training example, compute the linear combination `z`.\n",
    "   - Apply the activation function to determine the predicted output `y`.\n",
    "   - Update the weights and bias using the perceptron learning rule.\n",
    "\n",
    "3. **Prediction (`predict` Method):**\n",
    "   - Compute the linear combination `z` for given input features.\n",
    "   - Apply the activation function to predict the output.\n",
    "\n",
    "This unit is called Perceptron\n",
    "\n",
    "<img src = \"Perceptron.gif\">\n",
    "\n",
    "### Objective of the Code\n",
    "\n",
    "- **Train the Perceptron** to solve logical operations such as OR, AND, and XOR.\n",
    "- **Visualize Decision Boundaries** to understand how the perceptron separates data points.\n",
    "- **Highlight Limitations** by demonstrating that the perceptron fails to solve non-linearly separable problems like XOR.\n",
    "\n",
    "### Key Takeaways [HINTS]\n",
    "- The perceptron is effective for linearly separable data.\n",
    "- For complex datasets, more sophisticated models like Multi-Layer Perceptrons are required.\n"
   ]
  },
  {
   "cell_type": "code",
   "execution_count": null,
   "metadata": {},
   "outputs": [],
   "source": [
    "import numpy as np, pandas as pd # Data manipulation libraries\n",
    "import matplotlib.pyplot as plt # Data visualization\n",
    "\n",
    "# Creation of the perceptron class including all important methods\n",
    "class Perceptron:\n",
    "    def __init__(self, learning_rate= ..., n_iters= ...):\n",
    "        \n",
    "        self.learning_rate = ...\n",
    "        self.n_iters = ...\n",
    "        self.activation_func = ... \n",
    "        self.weights = ...\n",
    "        self.bias = ...\n",
    "        self.log = pd.DataFrame(columns=[\"Iteration\", \"Weights\", \"Bias\", \"Actual\", \"Predicted\"]) # DF for logging purposes.\n",
    "\n",
    "    def _sigmoid_function(self, x): # fill in the code\n",
    "        return ...\n",
    "    \n",
    "    def fit(self, X, y):\n",
    "        n_samples, n_features = X.shape # returns the number of samples (rows) and features (columns).\n",
    "        self.weights = ...\n",
    "        self.bias = ...\n",
    "        self._log(0, X, y) # Logging initial weights and bias as 0\n",
    "        # Gradient descent algorithm\n",
    "        for iteration in range(1, self.n_iters + 1): #The outer loop runs for the number of iterations (self.n_iters).\n",
    "            for idx, x_i in enumerate(X): #The inner loop iterates over each sample x_i in the dataset X.\n",
    "                linear_output = ... # Calc. the linear combination of weights and features plus bias.\n",
    "                y_predicted = self.activation_func(...) #Apply activation func.\n",
    "                # Perceptron learning rule update\n",
    "                update = ... # Update rule\n",
    "                self.weights += update * x_i # Equation applied\n",
    "                self.bias += update\n",
    "            # Logger operation\n",
    "            self._log(iteration, X,y ) # Logging weights, bias, and predictions at each iteration\n",
    "\n",
    "    def _log(self, iteration, X, y):\n",
    "        \"\"\"Log the weights and bias for each iteration.\"\"\"\n",
    "        y_predicted = self.predict(X) # Calculate predictions for the current weights and bias\n",
    "        log_entry = pd.DataFrame({\n",
    "            \"Iteration\": [iteration] * len(X), # Repeating the current iteration for each data point\n",
    "            \"Weights\": [self.weights.copy()], # Because weights are stored in array-like so that are mutable \n",
    "            \"Bias\": [self.bias], # Bias is scalar immutable therefore no copy operation added\n",
    "            \"Actual\": y, # Log the actual output\n",
    "            \"Predicted\": y_predicted # Log the predicted output\n",
    "        })\n",
    "        self.log = pd.concat([self.log, log_entry], ignore_index=True)\n",
    "\n",
    "    def predict(self, X):\n",
    "        \"\"\"This function uses the trained weights and bias to predict labels for input data X.\"\"\"\n",
    "        linear_output = ...\n",
    "        y_predicted = self.activation_func(...)\n",
    "        return ...\n",
    "\n",
    "# Utility class for dataset creation and visualization\n",
    "class Utility: #Utility programming-wise covers \n",
    "    @staticmethod #Static method unlike classes with init, it doesn't need to access 'self'\n",
    "    def plot_decision_boundary(X, y, model, title):\n",
    "        x_min, x_max = X[:, 0].min() - 1, X[:, 0].max() + 1  #X[:, 0] and X[:, 1] represent the two features in the dataset X.\n",
    "        y_min, y_max = X[:, 1].min() - 1, X[:, 1].max() + 1 # (+ or - 1) extends the plotting area slightly beyond the points\n",
    "        xx, yy = np.meshgrid(np.arange(x_min, x_max, 0.01), # Helps us to generate the coordinates data from individual arrays\n",
    "                            np.arange(y_min, y_max, 0.01)) # and visualize the decision boundary\n",
    "        # generates values from x_min to x_max with a step of 0.01. This creates a fine grid for smooth plotting.\n",
    "        Z = model.predict(np.c_[xx.ravel(), yy.ravel()]) # Ravel flattens the 2d arrays\n",
    "        Z = Z.reshape(xx.shape) # Z is reshaped back into a 2D same shape as xx and yy for plotting the decision boundary.\n",
    "        plt.contourf(xx, yy, Z, alpha=0.8) # alpha=0.8 parameter controls the transparency of the contour plot.\n",
    "        plt.scatter(X[:, 0], X[:, 1], c=y, edgecolors='k', marker='o', s=50) # X, y, color, bordercolor, marker, markersize\n",
    "        plt.title(title)\n",
    "        plt.xlabel('Feature 1')\n",
    "        plt.ylabel('Feature 2')\n",
    "        plt.show()\n",
    "        \n",
    "    @staticmethod\n",
    "    def create_logical_dataset(logical_operator):\n",
    "        if logical_operator == 'OR':\n",
    "            X = np.array([[0, 0], [0, 1], [1, 0], [1, 1]])\n",
    "            y = np.array([0, 1, 1, 1])\n",
    "        elif logical_operator == 'AND':\n",
    "            X = np.array([[0, 0], [0, 1], [1, 0], [1, 1]])\n",
    "            y = np.array([0, 0, 0, 1])\n",
    "        elif logical_operator == 'XOR':\n",
    "            X = np.array([[0, 0], [0, 1], [1, 0], [1, 1]])\n",
    "            y = np.array([0, 1, 1, 0])\n",
    "        else:\n",
    "            raise ValueError(\"Unknown logical operator!\")\n",
    "        \n",
    "        # Create a pandas DataFrame for better visualization\n",
    "        df = pd.DataFrame(X, columns=[\"Feature 1\", \"Feature 2\"])\n",
    "        df[\"Label\"] = y\n",
    "        display(df)\n",
    "        return X, y\n",
    "\n",
    "# Helper function to train and visualize the perceptron on a given dataset\n",
    "class Helper: #Helper generally focused on performing small, specific series of operations (Handling scenarios)\n",
    "    @staticmethod\n",
    "    def train_and_visualize(logical_operator):\n",
    "        X, y = Utility.create_logical_dataset(logical_operator)\n",
    "        perceptron = Perceptron(learning_rate=0.1, n_iters=10)\n",
    "        perceptron.fit(X, y)\n",
    "        Utility.plot_decision_boundary(X, y, perceptron, f'{logical_operator} Perceptron Decision Boundary')\n",
    "        \n",
    "        # Display the weights and bias log in a DataFrame\n",
    "        display(perceptron.log)\n",
    "\n",
    "# OR Problem\n",
    "print(\"Training Perceptron on OR dataset...\")\n",
    "Helper.train_and_visualize('OR')\n",
    "\n",
    "# AND Problem\n",
    "print(\"Training Perceptron on AND dataset...\")\n",
    "Helper.train_and_visualize('AND')\n",
    "\n",
    "# XOR Problem\n",
    "print(\"Training Perceptron on XOR dataset (expected to fail)...\")\n",
    "Helper.train_and_visualize('XOR')\n"
   ]
  },
  {
   "cell_type": "markdown",
   "metadata": {},
   "source": [
    "### Conclusion: \n",
    "- The perceptron model works perfectly for linearly separable data such as OR and AND, but fails to solve the XOR problem due to its linear decision boundary.\n",
    "- For non-linearly separable data, we need to use more advanced models like Multi-Layer Perceptrons."
   ]
  },
  {
   "cell_type": "markdown",
   "metadata": {},
   "source": [
    "### Some Terminologies!!:\n",
    "DL:\n",
    "- Epoch: One complete pass through the entire training dataset. This involves processing every sample in the dataset once.\n",
    "- Iteration: In this code, an iteration refers to a single update of the model's parameters. Here, the number of iterations is set to the number of epochs, as each epoch updates the model for every sample in the dataset.\n",
    "\n",
    "Programming:\n",
    "- Utility: Utilities are typically more general-purpose and can be applied in a variety of contexts. They may include operations like file handling, data transformation, or mathematical calculations.\n",
    "- Helper: Helpers are typically more narrowly scoped to support a specific part of an application or module. For example, a \"helper\" might be used to handle string formatting, validate inputs, or perform a small, repetitive task."
   ]
  },
  {
   "cell_type": "markdown",
   "metadata": {},
   "source": [
    "### Classwork 1: Solving the XOR Problem with a Multi-Layer Perceptron Using Keras\n",
    "\n",
    "#### Objective:\n",
    "- Implement a Multi-Layer Perceptron (MLP) using Keras to solve the XOR problem.\n",
    "- Understand how to use high-level deep learning libraries for building, training, and evaluating neural networks.\n",
    "\n",
    "#### Steps to Complete the Assignment:\n",
    "\n",
    "#### Hints\n",
    "```python\n",
    "# Import Required Libraries\n",
    "import numpy as np\n",
    "import matplotlib.pyplot as plt\n",
    "from tensorflow.keras.models import Sequential\n",
    "from tensorflow.keras.layers import Dense\n",
    "# Create the XOR inputs and outputs\n",
    "X = np.array(...)\n",
    "y = np.array(...)\n",
    "# Build the model\n",
    "model = Sequential()\n",
    "model.add(Dense(...))\n",
    "model.add(Dense(...))\n",
    "# Compile the model\n",
    "model.compile(loss='...', optimizer='...', metrics=['accuracy'])\n",
    "# Train the model\n",
    "model.fit(..., ..., epochs=...)\n",
    "# Evaluate the model\n",
    "loss, accuracy = model.evaluate(...)\n",
    "print(f'Accuracy: {accuracy*100:.2f}%')\n",
    "\n"
   ]
  },
  {
   "cell_type": "markdown",
   "metadata": {},
   "source": [
    "## Section 2: Multilayer Perceptron"
   ]
  },
  {
   "cell_type": "markdown",
   "metadata": {},
   "source": [
    "- MLP is a type of artificial neural network used for supervised learning tasks, such as classification and regression.\n",
    "- It consists of:\n",
    "    - multiple layers of interconnected neurons:\n",
    "        - including an input layer\n",
    "        - one or more hidden layers, \n",
    "        - and an output layer.\n",
    "    - activation functions\n",
    "- Common activation functions for hidden layers include:\n",
    "    - ReLU (Rectified Linear Unit)\n",
    "    - sigmoid, \n",
    "    while the output layer's activation function depends on the problem type e.g. softmax for classification \n",
    "- Once your model is defined, you compile it with a loss function, an optimizer, and evaluation metrics. This configuration depends on the specific problem you're solving.\n",
    "- Training an MLP involves feeding the training data through the network, computing gradients, and updating the model's weights using backpropagation and gradient descent algorithms.\n",
    "- Python libraries offer built-in training loops or tools to facilitate the training process.\n",
    "- You should split your dataset into training, validation, and test sets to evaluate your model's performance accurately.\n",
    "- Monitoring training progress and visualizing results are essential steps.\n",
    "- After training, you can save your model's weights and architecture for later use and deployment.\n"
   ]
  },
  {
   "cell_type": "markdown",
   "metadata": {},
   "source": [
    "<img src=\"Pytorch_vs_Tensorflow.PNG\" alt=\"Alternative text\" />"
   ]
  },
  {
   "cell_type": "markdown",
   "metadata": {},
   "source": [
    "### MLP on Iris Dataset"
   ]
  },
  {
   "cell_type": "markdown",
   "metadata": {},
   "source": [
    "In this section we build an end to end data modelling for the iris dataset which is used for research/academic purposes in python builtin libraries"
   ]
  },
  {
   "cell_type": "code",
   "execution_count": null,
   "metadata": {},
   "outputs": [],
   "source": [
    "import numpy as np\n",
    "import pandas as pd\n",
    "from sklearn.datasets import load_iris\n",
    "from sklearn.model_selection import train_test_split\n",
    "from sklearn.preprocessing import StandardScaler\n",
    "from keras.models import Sequential\n",
    "from keras.layers import Dense\n",
    "from keras.utils import to_categorical\n",
    "import matplotlib.pyplot as plt"
   ]
  },
  {
   "cell_type": "markdown",
   "metadata": {},
   "source": [
    "#### Inspecting Data"
   ]
  },
  {
   "cell_type": "code",
   "execution_count": null,
   "metadata": {},
   "outputs": [
    {
     "data": {
      "text/plain": [
       "{'data': array([[5.1, 3.5, 1.4, 0.2],\n",
       "        [4.9, 3. , 1.4, 0.2],\n",
       "        [4.7, 3.2, 1.3, 0.2],\n",
       "        [4.6, 3.1, 1.5, 0.2],\n",
       "        [5. , 3.6, 1.4, 0.2],\n",
       "        [5.4, 3.9, 1.7, 0.4],\n",
       "        [4.6, 3.4, 1.4, 0.3],\n",
       "        [5. , 3.4, 1.5, 0.2],\n",
       "        [4.4, 2.9, 1.4, 0.2],\n",
       "        [4.9, 3.1, 1.5, 0.1],\n",
       "        [5.4, 3.7, 1.5, 0.2],\n",
       "        [4.8, 3.4, 1.6, 0.2],\n",
       "        [4.8, 3. , 1.4, 0.1],\n",
       "        [4.3, 3. , 1.1, 0.1],\n",
       "        [5.8, 4. , 1.2, 0.2],\n",
       "        [5.7, 4.4, 1.5, 0.4],\n",
       "        [5.4, 3.9, 1.3, 0.4],\n",
       "        [5.1, 3.5, 1.4, 0.3],\n",
       "        [5.7, 3.8, 1.7, 0.3],\n",
       "        [5.1, 3.8, 1.5, 0.3],\n",
       "        [5.4, 3.4, 1.7, 0.2],\n",
       "        [5.1, 3.7, 1.5, 0.4],\n",
       "        [4.6, 3.6, 1. , 0.2],\n",
       "        [5.1, 3.3, 1.7, 0.5],\n",
       "        [4.8, 3.4, 1.9, 0.2],\n",
       "        [5. , 3. , 1.6, 0.2],\n",
       "        [5. , 3.4, 1.6, 0.4],\n",
       "        [5.2, 3.5, 1.5, 0.2],\n",
       "        [5.2, 3.4, 1.4, 0.2],\n",
       "        [4.7, 3.2, 1.6, 0.2],\n",
       "        [4.8, 3.1, 1.6, 0.2],\n",
       "        [5.4, 3.4, 1.5, 0.4],\n",
       "        [5.2, 4.1, 1.5, 0.1],\n",
       "        [5.5, 4.2, 1.4, 0.2],\n",
       "        [4.9, 3.1, 1.5, 0.2],\n",
       "        [5. , 3.2, 1.2, 0.2],\n",
       "        [5.5, 3.5, 1.3, 0.2],\n",
       "        [4.9, 3.6, 1.4, 0.1],\n",
       "        [4.4, 3. , 1.3, 0.2],\n",
       "        [5.1, 3.4, 1.5, 0.2],\n",
       "        [5. , 3.5, 1.3, 0.3],\n",
       "        [4.5, 2.3, 1.3, 0.3],\n",
       "        [4.4, 3.2, 1.3, 0.2],\n",
       "        [5. , 3.5, 1.6, 0.6],\n",
       "        [5.1, 3.8, 1.9, 0.4],\n",
       "        [4.8, 3. , 1.4, 0.3],\n",
       "        [5.1, 3.8, 1.6, 0.2],\n",
       "        [4.6, 3.2, 1.4, 0.2],\n",
       "        [5.3, 3.7, 1.5, 0.2],\n",
       "        [5. , 3.3, 1.4, 0.2],\n",
       "        [7. , 3.2, 4.7, 1.4],\n",
       "        [6.4, 3.2, 4.5, 1.5],\n",
       "        [6.9, 3.1, 4.9, 1.5],\n",
       "        [5.5, 2.3, 4. , 1.3],\n",
       "        [6.5, 2.8, 4.6, 1.5],\n",
       "        [5.7, 2.8, 4.5, 1.3],\n",
       "        [6.3, 3.3, 4.7, 1.6],\n",
       "        [4.9, 2.4, 3.3, 1. ],\n",
       "        [6.6, 2.9, 4.6, 1.3],\n",
       "        [5.2, 2.7, 3.9, 1.4],\n",
       "        [5. , 2. , 3.5, 1. ],\n",
       "        [5.9, 3. , 4.2, 1.5],\n",
       "        [6. , 2.2, 4. , 1. ],\n",
       "        [6.1, 2.9, 4.7, 1.4],\n",
       "        [5.6, 2.9, 3.6, 1.3],\n",
       "        [6.7, 3.1, 4.4, 1.4],\n",
       "        [5.6, 3. , 4.5, 1.5],\n",
       "        [5.8, 2.7, 4.1, 1. ],\n",
       "        [6.2, 2.2, 4.5, 1.5],\n",
       "        [5.6, 2.5, 3.9, 1.1],\n",
       "        [5.9, 3.2, 4.8, 1.8],\n",
       "        [6.1, 2.8, 4. , 1.3],\n",
       "        [6.3, 2.5, 4.9, 1.5],\n",
       "        [6.1, 2.8, 4.7, 1.2],\n",
       "        [6.4, 2.9, 4.3, 1.3],\n",
       "        [6.6, 3. , 4.4, 1.4],\n",
       "        [6.8, 2.8, 4.8, 1.4],\n",
       "        [6.7, 3. , 5. , 1.7],\n",
       "        [6. , 2.9, 4.5, 1.5],\n",
       "        [5.7, 2.6, 3.5, 1. ],\n",
       "        [5.5, 2.4, 3.8, 1.1],\n",
       "        [5.5, 2.4, 3.7, 1. ],\n",
       "        [5.8, 2.7, 3.9, 1.2],\n",
       "        [6. , 2.7, 5.1, 1.6],\n",
       "        [5.4, 3. , 4.5, 1.5],\n",
       "        [6. , 3.4, 4.5, 1.6],\n",
       "        [6.7, 3.1, 4.7, 1.5],\n",
       "        [6.3, 2.3, 4.4, 1.3],\n",
       "        [5.6, 3. , 4.1, 1.3],\n",
       "        [5.5, 2.5, 4. , 1.3],\n",
       "        [5.5, 2.6, 4.4, 1.2],\n",
       "        [6.1, 3. , 4.6, 1.4],\n",
       "        [5.8, 2.6, 4. , 1.2],\n",
       "        [5. , 2.3, 3.3, 1. ],\n",
       "        [5.6, 2.7, 4.2, 1.3],\n",
       "        [5.7, 3. , 4.2, 1.2],\n",
       "        [5.7, 2.9, 4.2, 1.3],\n",
       "        [6.2, 2.9, 4.3, 1.3],\n",
       "        [5.1, 2.5, 3. , 1.1],\n",
       "        [5.7, 2.8, 4.1, 1.3],\n",
       "        [6.3, 3.3, 6. , 2.5],\n",
       "        [5.8, 2.7, 5.1, 1.9],\n",
       "        [7.1, 3. , 5.9, 2.1],\n",
       "        [6.3, 2.9, 5.6, 1.8],\n",
       "        [6.5, 3. , 5.8, 2.2],\n",
       "        [7.6, 3. , 6.6, 2.1],\n",
       "        [4.9, 2.5, 4.5, 1.7],\n",
       "        [7.3, 2.9, 6.3, 1.8],\n",
       "        [6.7, 2.5, 5.8, 1.8],\n",
       "        [7.2, 3.6, 6.1, 2.5],\n",
       "        [6.5, 3.2, 5.1, 2. ],\n",
       "        [6.4, 2.7, 5.3, 1.9],\n",
       "        [6.8, 3. , 5.5, 2.1],\n",
       "        [5.7, 2.5, 5. , 2. ],\n",
       "        [5.8, 2.8, 5.1, 2.4],\n",
       "        [6.4, 3.2, 5.3, 2.3],\n",
       "        [6.5, 3. , 5.5, 1.8],\n",
       "        [7.7, 3.8, 6.7, 2.2],\n",
       "        [7.7, 2.6, 6.9, 2.3],\n",
       "        [6. , 2.2, 5. , 1.5],\n",
       "        [6.9, 3.2, 5.7, 2.3],\n",
       "        [5.6, 2.8, 4.9, 2. ],\n",
       "        [7.7, 2.8, 6.7, 2. ],\n",
       "        [6.3, 2.7, 4.9, 1.8],\n",
       "        [6.7, 3.3, 5.7, 2.1],\n",
       "        [7.2, 3.2, 6. , 1.8],\n",
       "        [6.2, 2.8, 4.8, 1.8],\n",
       "        [6.1, 3. , 4.9, 1.8],\n",
       "        [6.4, 2.8, 5.6, 2.1],\n",
       "        [7.2, 3. , 5.8, 1.6],\n",
       "        [7.4, 2.8, 6.1, 1.9],\n",
       "        [7.9, 3.8, 6.4, 2. ],\n",
       "        [6.4, 2.8, 5.6, 2.2],\n",
       "        [6.3, 2.8, 5.1, 1.5],\n",
       "        [6.1, 2.6, 5.6, 1.4],\n",
       "        [7.7, 3. , 6.1, 2.3],\n",
       "        [6.3, 3.4, 5.6, 2.4],\n",
       "        [6.4, 3.1, 5.5, 1.8],\n",
       "        [6. , 3. , 4.8, 1.8],\n",
       "        [6.9, 3.1, 5.4, 2.1],\n",
       "        [6.7, 3.1, 5.6, 2.4],\n",
       "        [6.9, 3.1, 5.1, 2.3],\n",
       "        [5.8, 2.7, 5.1, 1.9],\n",
       "        [6.8, 3.2, 5.9, 2.3],\n",
       "        [6.7, 3.3, 5.7, 2.5],\n",
       "        [6.7, 3. , 5.2, 2.3],\n",
       "        [6.3, 2.5, 5. , 1.9],\n",
       "        [6.5, 3. , 5.2, 2. ],\n",
       "        [6.2, 3.4, 5.4, 2.3],\n",
       "        [5.9, 3. , 5.1, 1.8]]),\n",
       " 'target': array([0, 0, 0, 0, 0, 0, 0, 0, 0, 0, 0, 0, 0, 0, 0, 0, 0, 0, 0, 0, 0, 0,\n",
       "        0, 0, 0, 0, 0, 0, 0, 0, 0, 0, 0, 0, 0, 0, 0, 0, 0, 0, 0, 0, 0, 0,\n",
       "        0, 0, 0, 0, 0, 0, 1, 1, 1, 1, 1, 1, 1, 1, 1, 1, 1, 1, 1, 1, 1, 1,\n",
       "        1, 1, 1, 1, 1, 1, 1, 1, 1, 1, 1, 1, 1, 1, 1, 1, 1, 1, 1, 1, 1, 1,\n",
       "        1, 1, 1, 1, 1, 1, 1, 1, 1, 1, 1, 1, 2, 2, 2, 2, 2, 2, 2, 2, 2, 2,\n",
       "        2, 2, 2, 2, 2, 2, 2, 2, 2, 2, 2, 2, 2, 2, 2, 2, 2, 2, 2, 2, 2, 2,\n",
       "        2, 2, 2, 2, 2, 2, 2, 2, 2, 2, 2, 2, 2, 2, 2, 2, 2, 2]),\n",
       " 'frame': None,\n",
       " 'target_names': array(['setosa', 'versicolor', 'virginica'], dtype='<U10'),\n",
       " 'DESCR': '.. _iris_dataset:\\n\\nIris plants dataset\\n--------------------\\n\\n**Data Set Characteristics:**\\n\\n    :Number of Instances: 150 (50 in each of three classes)\\n    :Number of Attributes: 4 numeric, predictive attributes and the class\\n    :Attribute Information:\\n        - sepal length in cm\\n        - sepal width in cm\\n        - petal length in cm\\n        - petal width in cm\\n        - class:\\n                - Iris-Setosa\\n                - Iris-Versicolour\\n                - Iris-Virginica\\n                \\n    :Summary Statistics:\\n\\n    ============== ==== ==== ======= ===== ====================\\n                    Min  Max   Mean    SD   Class Correlation\\n    ============== ==== ==== ======= ===== ====================\\n    sepal length:   4.3  7.9   5.84   0.83    0.7826\\n    sepal width:    2.0  4.4   3.05   0.43   -0.4194\\n    petal length:   1.0  6.9   3.76   1.76    0.9490  (high!)\\n    petal width:    0.1  2.5   1.20   0.76    0.9565  (high!)\\n    ============== ==== ==== ======= ===== ====================\\n\\n    :Missing Attribute Values: None\\n    :Class Distribution: 33.3% for each of 3 classes.\\n    :Creator: R.A. Fisher\\n    :Donor: Michael Marshall (MARSHALL%PLU@io.arc.nasa.gov)\\n    :Date: July, 1988\\n\\nThe famous Iris database, first used by Sir R.A. Fisher. The dataset is taken\\nfrom Fisher\\'s paper. Note that it\\'s the same as in R, but not as in the UCI\\nMachine Learning Repository, which has two wrong data points.\\n\\nThis is perhaps the best known database to be found in the\\npattern recognition literature.  Fisher\\'s paper is a classic in the field and\\nis referenced frequently to this day.  (See Duda & Hart, for example.)  The\\ndata set contains 3 classes of 50 instances each, where each class refers to a\\ntype of iris plant.  One class is linearly separable from the other 2; the\\nlatter are NOT linearly separable from each other.\\n\\n|details-start|\\n**References**\\n|details-split|\\n\\n- Fisher, R.A. \"The use of multiple measurements in taxonomic problems\"\\n  Annual Eugenics, 7, Part II, 179-188 (1936); also in \"Contributions to\\n  Mathematical Statistics\" (John Wiley, NY, 1950).\\n- Duda, R.O., & Hart, P.E. (1973) Pattern Classification and Scene Analysis.\\n  (Q327.D83) John Wiley & Sons.  ISBN 0-471-22361-1.  See page 218.\\n- Dasarathy, B.V. (1980) \"Nosing Around the Neighborhood: A New System\\n  Structure and Classification Rule for Recognition in Partially Exposed\\n  Environments\".  IEEE Transactions on Pattern Analysis and Machine\\n  Intelligence, Vol. PAMI-2, No. 1, 67-71.\\n- Gates, G.W. (1972) \"The Reduced Nearest Neighbor Rule\".  IEEE Transactions\\n  on Information Theory, May 1972, 431-433.\\n- See also: 1988 MLC Proceedings, 54-64.  Cheeseman et al\"s AUTOCLASS II\\n  conceptual clustering system finds 3 classes in the data.\\n- Many, many more ...\\n\\n|details-end|',\n",
       " 'feature_names': ['sepal length (cm)',\n",
       "  'sepal width (cm)',\n",
       "  'petal length (cm)',\n",
       "  'petal width (cm)'],\n",
       " 'filename': 'iris.csv',\n",
       " 'data_module': 'sklearn.datasets.data'}"
      ]
     },
     "metadata": {},
     "output_type": "display_data"
    }
   ],
   "source": [
    "iris = ... # Load the Iris dataset\n",
    "iris"
   ]
  },
  {
   "cell_type": "code",
   "execution_count": null,
   "metadata": {},
   "outputs": [
    {
     "data": {
      "text/plain": [
       "dict_keys(['data', 'target', 'frame', 'target_names', 'DESCR', 'feature_names', 'filename', 'data_module'])"
      ]
     },
     "metadata": {},
     "output_type": "display_data"
    }
   ],
   "source": [
    "... # seeing the keys of the Iris Data"
   ]
  },
  {
   "cell_type": "code",
   "execution_count": null,
   "metadata": {},
   "outputs": [
    {
     "name": "stdout",
     "output_type": "stream",
     "text": [
      "data 150\n",
      "target 150\n",
      "target_names 3\n",
      "DESCR 2780\n",
      "feature_names 4\n",
      "filename 8\n",
      "data_module 21\n"
     ]
    }
   ],
   "source": [
    "for key in iris.keys():\n",
    "    if (iris[key] is not None):\n",
    "        print(..., ...) # Display the key and the length of that key"
   ]
  },
  {
   "cell_type": "code",
   "execution_count": null,
   "metadata": {},
   "outputs": [
    {
     "data": {
      "text/html": [
       "<div>\n",
       "<style scoped>\n",
       "    .dataframe tbody tr th:only-of-type {\n",
       "        vertical-align: middle;\n",
       "    }\n",
       "\n",
       "    .dataframe tbody tr th {\n",
       "        vertical-align: top;\n",
       "    }\n",
       "\n",
       "    .dataframe thead th {\n",
       "        text-align: right;\n",
       "    }\n",
       "</style>\n",
       "<table border=\"1\" class=\"dataframe\">\n",
       "  <thead>\n",
       "    <tr style=\"text-align: right;\">\n",
       "      <th></th>\n",
       "      <th>sepal length (cm)</th>\n",
       "      <th>sepal width (cm)</th>\n",
       "      <th>petal length (cm)</th>\n",
       "      <th>petal width (cm)</th>\n",
       "    </tr>\n",
       "  </thead>\n",
       "  <tbody>\n",
       "    <tr>\n",
       "      <th>0</th>\n",
       "      <td>5.1</td>\n",
       "      <td>3.5</td>\n",
       "      <td>1.4</td>\n",
       "      <td>0.2</td>\n",
       "    </tr>\n",
       "    <tr>\n",
       "      <th>1</th>\n",
       "      <td>4.9</td>\n",
       "      <td>3.0</td>\n",
       "      <td>1.4</td>\n",
       "      <td>0.2</td>\n",
       "    </tr>\n",
       "  </tbody>\n",
       "</table>\n",
       "</div>"
      ],
      "text/plain": [
       "   sepal length (cm)  sepal width (cm)  petal length (cm)  petal width (cm)\n",
       "0                5.1               3.5                1.4               0.2\n",
       "1                4.9               3.0                1.4               0.2"
      ]
     },
     "metadata": {},
     "output_type": "display_data"
    }
   ],
   "source": [
    "# Create a dataframe to include the iris data\n",
    "df = pd.DataFrame(data=iris['data'],columns=...) # Feature names?\n",
    "df.head(2)"
   ]
  },
  {
   "cell_type": "code",
   "execution_count": null,
   "metadata": {},
   "outputs": [],
   "source": [
    "# Map the classes of target names\n",
    "class_mapping = {\\\n",
    "    ...:iris['target_names'][0],\n",
    "    1:..., \n",
    "    2:iris['target_names'][2]\n",
    "    }"
   ]
  },
  {
   "cell_type": "code",
   "execution_count": null,
   "metadata": {},
   "outputs": [],
   "source": [
    "df['target'] = iris['target'] # add the target y to the dataframe\n",
    "df['target_decoded'] = df['target'].map(class_mapping) # Target variable added to dataframe"
   ]
  },
  {
   "cell_type": "code",
   "execution_count": null,
   "metadata": {},
   "outputs": [
    {
     "data": {
      "text/html": [
       "<div>\n",
       "<style scoped>\n",
       "    .dataframe tbody tr th:only-of-type {\n",
       "        vertical-align: middle;\n",
       "    }\n",
       "\n",
       "    .dataframe tbody tr th {\n",
       "        vertical-align: top;\n",
       "    }\n",
       "\n",
       "    .dataframe thead th {\n",
       "        text-align: right;\n",
       "    }\n",
       "</style>\n",
       "<table border=\"1\" class=\"dataframe\">\n",
       "  <thead>\n",
       "    <tr style=\"text-align: right;\">\n",
       "      <th></th>\n",
       "      <th>sepal length (cm)</th>\n",
       "      <th>sepal width (cm)</th>\n",
       "      <th>petal length (cm)</th>\n",
       "      <th>petal width (cm)</th>\n",
       "      <th>target</th>\n",
       "      <th>target_decoded</th>\n",
       "    </tr>\n",
       "  </thead>\n",
       "  <tbody>\n",
       "    <tr>\n",
       "      <th>141</th>\n",
       "      <td>6.9</td>\n",
       "      <td>3.1</td>\n",
       "      <td>5.1</td>\n",
       "      <td>2.3</td>\n",
       "      <td>2</td>\n",
       "      <td>virginica</td>\n",
       "    </tr>\n",
       "    <tr>\n",
       "      <th>30</th>\n",
       "      <td>4.8</td>\n",
       "      <td>3.1</td>\n",
       "      <td>1.6</td>\n",
       "      <td>0.2</td>\n",
       "      <td>0</td>\n",
       "      <td>setosa</td>\n",
       "    </tr>\n",
       "    <tr>\n",
       "      <th>90</th>\n",
       "      <td>5.5</td>\n",
       "      <td>2.6</td>\n",
       "      <td>4.4</td>\n",
       "      <td>1.2</td>\n",
       "      <td>1</td>\n",
       "      <td>versicolor</td>\n",
       "    </tr>\n",
       "    <tr>\n",
       "      <th>86</th>\n",
       "      <td>6.7</td>\n",
       "      <td>3.1</td>\n",
       "      <td>4.7</td>\n",
       "      <td>1.5</td>\n",
       "      <td>1</td>\n",
       "      <td>versicolor</td>\n",
       "    </tr>\n",
       "    <tr>\n",
       "      <th>67</th>\n",
       "      <td>5.8</td>\n",
       "      <td>2.7</td>\n",
       "      <td>4.1</td>\n",
       "      <td>1.0</td>\n",
       "      <td>1</td>\n",
       "      <td>versicolor</td>\n",
       "    </tr>\n",
       "  </tbody>\n",
       "</table>\n",
       "</div>"
      ],
      "text/plain": [
       "     sepal length (cm)  sepal width (cm)  petal length (cm)  petal width (cm)  \\\n",
       "141                6.9               3.1                5.1               2.3   \n",
       "30                 4.8               3.1                1.6               0.2   \n",
       "90                 5.5               2.6                4.4               1.2   \n",
       "86                 6.7               3.1                4.7               1.5   \n",
       "67                 5.8               2.7                4.1               1.0   \n",
       "\n",
       "     target target_decoded  \n",
       "141       2      virginica  \n",
       "30        0         setosa  \n",
       "90        1     versicolor  \n",
       "86        1     versicolor  \n",
       "67        1     versicolor  "
      ]
     },
     "metadata": {},
     "output_type": "display_data"
    }
   ],
   "source": [
    "df.sample(5)"
   ]
  },
  {
   "cell_type": "markdown",
   "metadata": {},
   "source": [
    "#### Visualize some data"
   ]
  },
  {
   "cell_type": "code",
   "execution_count": null,
   "metadata": {},
   "outputs": [],
   "source": [
    "\n",
    "class Utility:\n",
    "    @staticmethod\n",
    "    def scatter_features(feature_1,feature_2):\n",
    "        # Plot the data for each class separately\n",
    "        for target_class in df['target'].unique():\n",
    "            subset = df[df['target'] == target_class]\n",
    "            plt.scatter(subset[feature_1], subset[feature_2], \n",
    "                        label=class_mapping[target_class])\n",
    "\n",
    "        # Add labels, title, and legend\n",
    "        plt.xlabel('Petal Length (cm)')\n",
    "        plt.ylabel('Petal Width (cm)')\n",
    "        plt.title('Iris Dataset - True Classes')\n",
    "        plt.legend(title='Classes')\n",
    "        plt.show()"
   ]
  },
  {
   "cell_type": "markdown",
   "metadata": {},
   "source": [
    "#### Data Modelling"
   ]
  },
  {
   "cell_type": "code",
   "execution_count": null,
   "metadata": {},
   "outputs": [],
   "source": [
    "@staticmethod\n",
    "def split_and_scale_data(df,test_size=0.2):\n",
    "    X = df[[column for column in df.columns if column not in ['target','target_decoded']]]\n",
    "    y = to_categorical(df['target'])\n",
    "    # Split the data into training and testing sets\n",
    "    X_train, X_test, y_train, y_test = ... #Split data using train test split\n",
    "    print('Data is split successfully')\n",
    "    scaler = ... #Use the standardscaler\n",
    "    X_train = ... # use the scaler method \"fit_transform\"\n",
    "    X_test = ... # same here\n",
    "    print('Data is scaled successfully')\n",
    "    return ..., ..., ..., ...\n",
    "@staticmethod\n",
    "def model_creation(input_dim,hidden_layer_dim,output_dim):\n",
    "    model = ... # use sequential\n",
    "    model.add(Dense(..., ..., activation='relu'))  # Hidden layer (including dimension of input)\n",
    "    model.add(Dense(..., activation='softmax'))  # Output layer\n",
    "    print('Model created successfully')\n",
    "    model.compile(loss='categorical_crossentropy', optimizer='adam', metrics=['accuracy'])\n",
    "    print('Model compiled successfully')\n",
    "    return model\n",
    "@staticmethod\n",
    "def model_fit_evaluate(model,X_train,X_test,y_train,y_test,epochs,batch_size,verbose = 1):\n",
    "    ... # Use fit the model\n",
    "    print('Model is fit successfully')\n",
    "    loss, accuracy = ... # Evaluate the model\n",
    "    print('Model is evaluated as follows:')\n",
    "    print(f'Test accuracy: {accuracy * 100:.2f}%')\n",
    "\n",
    "Utility.split_and_scale_data = split_and_scale_data\n",
    "Utility.model_creation = model_creation\n",
    "Utility.model_fit_evaluate = model_fit_evaluate"
   ]
  },
  {
   "cell_type": "code",
   "execution_count": null,
   "metadata": {},
   "outputs": [],
   "source": [
    "class Helper:\n",
    "    @staticmethod\n",
    "    def run_pipeline(df = df, input_dim = 4, hidden_layer_dim = 10, output_dim = 3, epochs = 100, batch_size=8,verbose = 0):\n",
    "        Utility.scatter_features(feature_1='petal length (cm)',feature_2='petal width (cm)')\n",
    "        Utility.scatter_features(feature_1='sepal length (cm)',feature_2='sepal width (cm)')\n",
    "        X_train, X_test, y_train, y_test = ... # use your utilities\n",
    "        model = ... # use ur utilities\n",
    "        print(...) # print the summary of the model\n",
    "        Utility.model_fit_evaluate(...,...,...,...,...,...,...,...)"
   ]
  },
  {
   "cell_type": "code",
   "execution_count": null,
   "metadata": {},
   "outputs": [
    {
     "data": {
      "image/png": "[encoded data removed]",
      "text/plain": [
       "<Figure size 640x480 with 1 Axes>"
      ]
     },
     "metadata": {},
     "output_type": "display_data"
    },
    {
     "data": {
      "image/png": "[encoded data removed]",
      "text/plain": [
       "<Figure size 640x480 with 1 Axes>"
      ]
     },
     "metadata": {},
     "output_type": "display_data"
    },
    {
     "name": "stdout",
     "output_type": "stream",
     "text": [
      "Data is split successfully\n",
      "Data is scaled successfully\n",
      "Model created successfully\n",
      "Model compiled successfully\n",
      "Model is fit successfully\n",
      "2/2 [==============================] - 0s 8ms/step - loss: 0.1134 - accuracy: 0.9778\n",
      "Model is evaluated as follows:\n",
      "Test accuracy: 97.78%\n"
     ]
    }
   ],
   "source": [
    "Helper.run_pipeline()"
   ]
  },
  {
   "cell_type": "markdown",
   "metadata": {},
   "source": [
    "## Assignment 2: Implement the previous whole model using PyTorch"
   ]
  },
  {
   "cell_type": "code",
   "execution_count": null,
   "metadata": {},
   "outputs": [],
   "source": []
  }
 ],
 "metadata": {
  "kernelspec": {
   "display_name": "mitocluster",
   "language": "python",
   "name": "python3"
  },
  "language_info": {
   "codemirror_mode": {
    "name": "ipython",
    "version": 3
   },
   "file_extension": ".py",
   "mimetype": "text/x-python",
   "name": "python",
   "nbconvert_exporter": "python",
   "pygments_lexer": "ipython3",
   "version": "3.11.5"
  }
 },
 "nbformat": 4,
 "nbformat_minor": 2
}
