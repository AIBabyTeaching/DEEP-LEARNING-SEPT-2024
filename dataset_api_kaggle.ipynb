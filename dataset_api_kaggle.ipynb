{
 "cells": [
  {
   "cell_type": "markdown",
   "metadata": {},
   "source": [
    "# Get data through Kaggle API"
   ]
  },
  {
   "cell_type": "markdown",
   "metadata": {},
   "source": [
    "- Login to Kaggle (if you want to use your personal account)\n",
    "- Go to the dataset competition link and click join the competition https://www.kaggle.com/c/dogs-vs-cats/data\n",
    "- Go and get your kaggle.json file of kaggle api from your profile settings\n",
    "- Place it inside this folder\n",
    "- Then run this notebook first"
   ]
  },
  {
   "cell_type": "code",
   "execution_count": 5,
   "metadata": {},
   "outputs": [],
   "source": [
    "COMPETITION_ID = 'dogs-vs-cats'\n",
    "import os\n",
    "import shutil\n",
    "import kaggle\n",
    "import zipfile\n",
    "\n",
    "current_user_profile = os.path.expanduser(\"~\")\n",
    "kaggle_directory = os.path.join(current_user_profile, \".kaggle\")\n",
    "extract_dir = os.getcwd()\n",
    "\n",
    "source_path = \"kaggle.json\"\n",
    "destination_path = os.path.join(kaggle_directory, \"kaggle.json\")\n",
    "shutil.copy(source_path, destination_path)"
   ]
  },
  {
   "cell_type": "code",
   "execution_count": 23,
   "metadata": {},
   "outputs": [],
   "source": [
    "kaggle.api.authenticate()\n",
    "kaggle.api.competition_download_files(COMPETITION_ID, path=extract_dir)"
   ]
  },
  {
   "cell_type": "code",
   "execution_count": 1,
   "metadata": {},
   "outputs": [
    {
     "data": {
      "application/javascript": "\n        if (window._pyforest_update_imports_cell) { window._pyforest_update_imports_cell('import os'); }\n    ",
      "text/plain": [
       "<IPython.core.display.Javascript object>"
      ]
     },
     "metadata": {},
     "output_type": "display_data"
    },
    {
     "name": "stdout",
     "output_type": "stream",
     "text": [
      "The contents of dogs-vs-cats.zip have been extracted to a:\\BRAND NEW START\\Ongoing\\Sept. 2023\\Deep Learning\\Week 8 - CNN.\n"
     ]
    }
   ],
   "source": [
    "zip_file = '{}.zip'.format(COMPETITION_ID)\n",
    "\n",
    "# Open and extract the ZIP file\n",
    "with zipfile.ZipFile(zip_file, 'r') as zip_ref:\n",
    "    contents = zip_ref.namelist()\n",
    "    zip_ref.extractall(extract_dir)\n",
    "for i in contents:\n",
    "    if i.endswith('.zip'):\n",
    "        with zipfile.ZipFile(i, 'r') as zip_ref:\n",
    "            contents = zip_ref.namelist()\n",
    "            zip_ref.extractall(extract_dir)\n",
    "\n",
    "print(f'The contents of {zip_file} have been extracted to {extract_dir}.')\n"
   ]
  }
 ],
 "metadata": {
  "kernelspec": {
   "display_name": "Mito",
   "language": "python",
   "name": "python3"
  },
  "language_info": {
   "codemirror_mode": {
    "name": "ipython",
    "version": 3
   },
   "file_extension": ".py",
   "mimetype": "text/x-python",
   "name": "python",
   "nbconvert_exporter": "python",
   "pygments_lexer": "ipython3",
   "version": "3.11.4"
  }
 },
 "nbformat": 4,
 "nbformat_minor": 2
}
